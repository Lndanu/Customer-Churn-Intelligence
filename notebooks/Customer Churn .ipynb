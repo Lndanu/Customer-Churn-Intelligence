{
 "cells": [
  {
   "cell_type": "markdown",
   "metadata": {},
   "source": [
    "# 1. Business Understanding"
   ]
  },
  {
   "cell_type": "markdown",
   "metadata": {},
   "source": [
    "## High-Level Overview\n",
    "\n",
    "Customer churn is one of the most pressing challenges for subscription-based businesses. In the telecommunications sector, churn directly impacts revenue, customer lifetime value, and operational efficiency. The aim of this project is to predict which customers are most likely to stop using the service (i.e., churn) using a machine learning model. This will allow the business to proactively retain high-risk customers through personalized interventions.\n"
   ]
  },
  {
   "cell_type": "markdown",
   "metadata": {},
   "source": [
    "## Problem Statement\n",
    "\n",
    "Telecom companies experience high customer turnover due to increased competition, service dissatisfaction, or pricing issues. Each customer lost means:\n",
    "- Loss of recurring revenue\n",
    "- Increased cost of acquiring new customers\n",
    "- Possible damage to brand reputation if the churn results from a poor customer experience\n",
    "\n",
    "The ability to predict churn enables timely, targeted action — such as retention offers or personalized outreach — to prevent customer loss.\n"
   ]
  },
  {
   "cell_type": "markdown",
   "metadata": {},
   "source": [
    "## Stakeholders\n",
    "\n",
    "- **Customer Retention Team**: Interested in identifying high-risk customers to launch retention campaigns.\n",
    "- **Marketing Department**: Wants to segment and personalize campaigns for better ROI.\n",
    "- **Executive Leadership**: Focused on minimizing churn rate to maintain market share and improve profitability.\n"
   ]
  },
  {
   "cell_type": "markdown",
   "metadata": {},
   "source": [
    "## Project Objective\n",
    "\n",
    "Develop a supervised machine learning model that:\n",
    "- Accurately predicts whether a customer is likely to churn\n",
    "- Identifies the key drivers of churn\n",
    "- Can be integrated into existing customer management workflows for real-time insights\n"
   ]
  },
  {
   "cell_type": "markdown",
   "metadata": {},
   "source": [
    "## Business Value\n",
    "\n",
    "This model will empower the business to:\n",
    "- Reduce customer churn and stabilize revenue\n",
    "- Optimize resource allocation (target only high-risk customers)\n",
    "- Design more effective and data-driven customer retention strategies\n",
    "- Increase customer lifetime value (CLV)\n"
   ]
  },
  {
   "cell_type": "markdown",
   "metadata": {},
   "source": [
    "## Why Machine Learning?\n",
    "\n",
    "Machine learning is well-suited for solving the churn prediction problem because:\n",
    "- It automates the detection of complex, non-linear patterns in large customer datasets\n",
    "- It handles high-dimensional data better than manual analysis\n",
    "- It can continuously learn and improve over time as new data comes in\n",
    "- Churn is inherently a **binary classification** task — customers either churn (1) or do not (0) — making it ideal for classification algorithms\n",
    "\n",
    "Using ML will enable predictive decision-making that goes beyond descriptive analytics.\n"
   ]
  },
  {
   "cell_type": "markdown",
   "metadata": {},
   "source": [
    "# 2. Data Understanding\n",
    "\n",
    "A critical first step in the data science workflow is to understand the structure, content, and potential quality issues within the dataset. This helps to identify necessary cleaning steps and informs modeling decisions.\n",
    "\n",
    "We will begin by loading the dataset and performing an initial preview.\n",
    "\n",
    "---\n",
    "\n",
    "## 2.1 Load and Preview Data\n",
    "\n",
    "We will load the dataset into a pandas DataFrame and preview the first few rows to get a sense of the variables available, the structure of the data, and any immediate data quality issues.\n"
   ]
  },
  {
   "cell_type": "code",
   "execution_count": 55,
   "metadata": {},
   "outputs": [
    {
     "data": {
      "text/html": [
       "<div>\n",
       "<style scoped>\n",
       "    .dataframe tbody tr th:only-of-type {\n",
       "        vertical-align: middle;\n",
       "    }\n",
       "\n",
       "    .dataframe tbody tr th {\n",
       "        vertical-align: top;\n",
       "    }\n",
       "\n",
       "    .dataframe thead th {\n",
       "        text-align: right;\n",
       "    }\n",
       "</style>\n",
       "<table border=\"1\" class=\"dataframe\">\n",
       "  <thead>\n",
       "    <tr style=\"text-align: right;\">\n",
       "      <th></th>\n",
       "      <th>state</th>\n",
       "      <th>account length</th>\n",
       "      <th>area code</th>\n",
       "      <th>phone number</th>\n",
       "      <th>international plan</th>\n",
       "      <th>voice mail plan</th>\n",
       "      <th>number vmail messages</th>\n",
       "      <th>total day minutes</th>\n",
       "      <th>total day calls</th>\n",
       "      <th>total day charge</th>\n",
       "      <th>...</th>\n",
       "      <th>total eve calls</th>\n",
       "      <th>total eve charge</th>\n",
       "      <th>total night minutes</th>\n",
       "      <th>total night calls</th>\n",
       "      <th>total night charge</th>\n",
       "      <th>total intl minutes</th>\n",
       "      <th>total intl calls</th>\n",
       "      <th>total intl charge</th>\n",
       "      <th>customer service calls</th>\n",
       "      <th>churn</th>\n",
       "    </tr>\n",
       "  </thead>\n",
       "  <tbody>\n",
       "    <tr>\n",
       "      <th>0</th>\n",
       "      <td>KS</td>\n",
       "      <td>128</td>\n",
       "      <td>415</td>\n",
       "      <td>382-4657</td>\n",
       "      <td>no</td>\n",
       "      <td>yes</td>\n",
       "      <td>25</td>\n",
       "      <td>265.1</td>\n",
       "      <td>110</td>\n",
       "      <td>45.07</td>\n",
       "      <td>...</td>\n",
       "      <td>99</td>\n",
       "      <td>16.78</td>\n",
       "      <td>244.7</td>\n",
       "      <td>91</td>\n",
       "      <td>11.01</td>\n",
       "      <td>10.0</td>\n",
       "      <td>3</td>\n",
       "      <td>2.70</td>\n",
       "      <td>1</td>\n",
       "      <td>False</td>\n",
       "    </tr>\n",
       "    <tr>\n",
       "      <th>1</th>\n",
       "      <td>OH</td>\n",
       "      <td>107</td>\n",
       "      <td>415</td>\n",
       "      <td>371-7191</td>\n",
       "      <td>no</td>\n",
       "      <td>yes</td>\n",
       "      <td>26</td>\n",
       "      <td>161.6</td>\n",
       "      <td>123</td>\n",
       "      <td>27.47</td>\n",
       "      <td>...</td>\n",
       "      <td>103</td>\n",
       "      <td>16.62</td>\n",
       "      <td>254.4</td>\n",
       "      <td>103</td>\n",
       "      <td>11.45</td>\n",
       "      <td>13.7</td>\n",
       "      <td>3</td>\n",
       "      <td>3.70</td>\n",
       "      <td>1</td>\n",
       "      <td>False</td>\n",
       "    </tr>\n",
       "    <tr>\n",
       "      <th>2</th>\n",
       "      <td>NJ</td>\n",
       "      <td>137</td>\n",
       "      <td>415</td>\n",
       "      <td>358-1921</td>\n",
       "      <td>no</td>\n",
       "      <td>no</td>\n",
       "      <td>0</td>\n",
       "      <td>243.4</td>\n",
       "      <td>114</td>\n",
       "      <td>41.38</td>\n",
       "      <td>...</td>\n",
       "      <td>110</td>\n",
       "      <td>10.30</td>\n",
       "      <td>162.6</td>\n",
       "      <td>104</td>\n",
       "      <td>7.32</td>\n",
       "      <td>12.2</td>\n",
       "      <td>5</td>\n",
       "      <td>3.29</td>\n",
       "      <td>0</td>\n",
       "      <td>False</td>\n",
       "    </tr>\n",
       "    <tr>\n",
       "      <th>3</th>\n",
       "      <td>OH</td>\n",
       "      <td>84</td>\n",
       "      <td>408</td>\n",
       "      <td>375-9999</td>\n",
       "      <td>yes</td>\n",
       "      <td>no</td>\n",
       "      <td>0</td>\n",
       "      <td>299.4</td>\n",
       "      <td>71</td>\n",
       "      <td>50.90</td>\n",
       "      <td>...</td>\n",
       "      <td>88</td>\n",
       "      <td>5.26</td>\n",
       "      <td>196.9</td>\n",
       "      <td>89</td>\n",
       "      <td>8.86</td>\n",
       "      <td>6.6</td>\n",
       "      <td>7</td>\n",
       "      <td>1.78</td>\n",
       "      <td>2</td>\n",
       "      <td>False</td>\n",
       "    </tr>\n",
       "    <tr>\n",
       "      <th>4</th>\n",
       "      <td>OK</td>\n",
       "      <td>75</td>\n",
       "      <td>415</td>\n",
       "      <td>330-6626</td>\n",
       "      <td>yes</td>\n",
       "      <td>no</td>\n",
       "      <td>0</td>\n",
       "      <td>166.7</td>\n",
       "      <td>113</td>\n",
       "      <td>28.34</td>\n",
       "      <td>...</td>\n",
       "      <td>122</td>\n",
       "      <td>12.61</td>\n",
       "      <td>186.9</td>\n",
       "      <td>121</td>\n",
       "      <td>8.41</td>\n",
       "      <td>10.1</td>\n",
       "      <td>3</td>\n",
       "      <td>2.73</td>\n",
       "      <td>3</td>\n",
       "      <td>False</td>\n",
       "    </tr>\n",
       "  </tbody>\n",
       "</table>\n",
       "<p>5 rows × 21 columns</p>\n",
       "</div>"
      ],
      "text/plain": [
       "  state  account length  area code phone number international plan  \\\n",
       "0    KS             128        415     382-4657                 no   \n",
       "1    OH             107        415     371-7191                 no   \n",
       "2    NJ             137        415     358-1921                 no   \n",
       "3    OH              84        408     375-9999                yes   \n",
       "4    OK              75        415     330-6626                yes   \n",
       "\n",
       "  voice mail plan  number vmail messages  total day minutes  total day calls  \\\n",
       "0             yes                     25              265.1              110   \n",
       "1             yes                     26              161.6              123   \n",
       "2              no                      0              243.4              114   \n",
       "3              no                      0              299.4               71   \n",
       "4              no                      0              166.7              113   \n",
       "\n",
       "   total day charge  ...  total eve calls  total eve charge  \\\n",
       "0             45.07  ...               99             16.78   \n",
       "1             27.47  ...              103             16.62   \n",
       "2             41.38  ...              110             10.30   \n",
       "3             50.90  ...               88              5.26   \n",
       "4             28.34  ...              122             12.61   \n",
       "\n",
       "   total night minutes  total night calls  total night charge  \\\n",
       "0                244.7                 91               11.01   \n",
       "1                254.4                103               11.45   \n",
       "2                162.6                104                7.32   \n",
       "3                196.9                 89                8.86   \n",
       "4                186.9                121                8.41   \n",
       "\n",
       "   total intl minutes  total intl calls  total intl charge  \\\n",
       "0                10.0                 3               2.70   \n",
       "1                13.7                 3               3.70   \n",
       "2                12.2                 5               3.29   \n",
       "3                 6.6                 7               1.78   \n",
       "4                10.1                 3               2.73   \n",
       "\n",
       "   customer service calls  churn  \n",
       "0                       1  False  \n",
       "1                       1  False  \n",
       "2                       0  False  \n",
       "3                       2  False  \n",
       "4                       3  False  \n",
       "\n",
       "[5 rows x 21 columns]"
      ]
     },
     "execution_count": 55,
     "metadata": {},
     "output_type": "execute_result"
    }
   ],
   "source": [
    "# Import libraries\n",
    "\n",
    "import pandas as pd\n",
    "\n",
    "# Load the dataset\n",
    "\n",
    "df = pd.read_csv('../data/bigml_59c28831336c6604c800002a.csv')\n",
    "\n",
    "# Preview the first 5 rows\n",
    "\n",
    "df.head()\n"
   ]
  },
  {
   "cell_type": "markdown",
   "metadata": {},
   "source": [
    "## 2.2 Dataset Shape\n",
    "\n",
    "We begin by checking the dimensions of the dataset to understand how many records (rows) and attributes (columns) we’re working with.\n"
   ]
  },
  {
   "cell_type": "code",
   "execution_count": 42,
   "metadata": {},
   "outputs": [
    {
     "name": "stdout",
     "output_type": "stream",
     "text": [
      "The dataset contains 3333 rows and 21 columns.\n"
     ]
    }
   ],
   "source": [
    "# Shape of the dataset\n",
    "\n",
    "print(f\"The dataset contains {df.shape[0]} rows and {df.shape[1]} columns.\")\n"
   ]
  },
  {
   "cell_type": "markdown",
   "metadata": {},
   "source": [
    "## 2.3 Data Types and Structure\n",
    "\n",
    "We inspect data types and the number of non-null entries to identify potential null values, understand feature types (numeric vs. categorical), and assess overall data structure.\n"
   ]
  },
  {
   "cell_type": "code",
   "execution_count": 43,
   "metadata": {},
   "outputs": [
    {
     "name": "stdout",
     "output_type": "stream",
     "text": [
      "<class 'pandas.core.frame.DataFrame'>\n",
      "RangeIndex: 3333 entries, 0 to 3332\n",
      "Data columns (total 21 columns):\n",
      " #   Column                  Non-Null Count  Dtype  \n",
      "---  ------                  --------------  -----  \n",
      " 0   state                   3333 non-null   object \n",
      " 1   account length          3333 non-null   int64  \n",
      " 2   area code               3333 non-null   int64  \n",
      " 3   phone number            3333 non-null   object \n",
      " 4   international plan      3333 non-null   object \n",
      " 5   voice mail plan         3333 non-null   object \n",
      " 6   number vmail messages   3333 non-null   int64  \n",
      " 7   total day minutes       3333 non-null   float64\n",
      " 8   total day calls         3333 non-null   int64  \n",
      " 9   total day charge        3333 non-null   float64\n",
      " 10  total eve minutes       3333 non-null   float64\n",
      " 11  total eve calls         3333 non-null   int64  \n",
      " 12  total eve charge        3333 non-null   float64\n",
      " 13  total night minutes     3333 non-null   float64\n",
      " 14  total night calls       3333 non-null   int64  \n",
      " 15  total night charge      3333 non-null   float64\n",
      " 16  total intl minutes      3333 non-null   float64\n",
      " 17  total intl calls        3333 non-null   int64  \n",
      " 18  total intl charge       3333 non-null   float64\n",
      " 19  customer service calls  3333 non-null   int64  \n",
      " 20  churn                   3333 non-null   bool   \n",
      "dtypes: bool(1), float64(8), int64(8), object(4)\n",
      "memory usage: 524.2+ KB\n"
     ]
    }
   ],
   "source": [
    "# Info about data types and non-null values\n",
    "df.info()\n"
   ]
  },
  {
   "cell_type": "markdown",
   "metadata": {},
   "source": [
    "## 2.4 Missing Values\n",
    "\n",
    "Missing values can negatively affect model performance. Here, we calculate the total and percentage of missing values in each column.\n"
   ]
  },
  {
   "cell_type": "code",
   "execution_count": 44,
   "metadata": {},
   "outputs": [
    {
     "data": {
      "text/html": [
       "<div>\n",
       "<style scoped>\n",
       "    .dataframe tbody tr th:only-of-type {\n",
       "        vertical-align: middle;\n",
       "    }\n",
       "\n",
       "    .dataframe tbody tr th {\n",
       "        vertical-align: top;\n",
       "    }\n",
       "\n",
       "    .dataframe thead th {\n",
       "        text-align: right;\n",
       "    }\n",
       "</style>\n",
       "<table border=\"1\" class=\"dataframe\">\n",
       "  <thead>\n",
       "    <tr style=\"text-align: right;\">\n",
       "      <th></th>\n",
       "      <th>Missing Values</th>\n",
       "      <th>Percentage (%)</th>\n",
       "    </tr>\n",
       "  </thead>\n",
       "  <tbody>\n",
       "  </tbody>\n",
       "</table>\n",
       "</div>"
      ],
      "text/plain": [
       "Empty DataFrame\n",
       "Columns: [Missing Values, Percentage (%)]\n",
       "Index: []"
      ]
     },
     "execution_count": 44,
     "metadata": {},
     "output_type": "execute_result"
    }
   ],
   "source": [
    "# Total and percentage of missing values\n",
    "missing = df.isnull().sum()\n",
    "missing_percent = (missing / len(df)) * 100\n",
    "missing_summary = pd.DataFrame({'Missing Values': missing, 'Percentage (%)': missing_percent})\n",
    "missing_summary[missing_summary['Missing Values'] > 0]\n"
   ]
  },
  {
   "cell_type": "code",
   "execution_count": 56,
   "metadata": {},
   "outputs": [
    {
     "name": "stdout",
     "output_type": "stream",
     "text": [
      "Categorical Columns: ['state', 'phone number', 'international plan', 'voice mail plan']\n"
     ]
    }
   ],
   "source": [
    "# List of categorical variables\n",
    "categorical_cols = df.select_dtypes(include='object').columns.tolist()\n",
    "print(\"Categorical Columns:\", categorical_cols)"
   ]
  },
  {
   "cell_type": "markdown",
   "metadata": {},
   "source": [
    "### 2.5 Encode Categorical Columns"
   ]
  },
  {
   "cell_type": "code",
   "execution_count": 57,
   "metadata": {},
   "outputs": [
    {
     "data": {
      "text/html": [
       "<div>\n",
       "<style scoped>\n",
       "    .dataframe tbody tr th:only-of-type {\n",
       "        vertical-align: middle;\n",
       "    }\n",
       "\n",
       "    .dataframe tbody tr th {\n",
       "        vertical-align: top;\n",
       "    }\n",
       "\n",
       "    .dataframe thead th {\n",
       "        text-align: right;\n",
       "    }\n",
       "</style>\n",
       "<table border=\"1\" class=\"dataframe\">\n",
       "  <thead>\n",
       "    <tr style=\"text-align: right;\">\n",
       "      <th></th>\n",
       "      <th>account length</th>\n",
       "      <th>area code</th>\n",
       "      <th>number vmail messages</th>\n",
       "      <th>total day minutes</th>\n",
       "      <th>total day calls</th>\n",
       "      <th>total day charge</th>\n",
       "      <th>total eve minutes</th>\n",
       "      <th>total eve calls</th>\n",
       "      <th>total eve charge</th>\n",
       "      <th>total night minutes</th>\n",
       "      <th>...</th>\n",
       "      <th>phone number_422-5874</th>\n",
       "      <th>phone number_422-6685</th>\n",
       "      <th>phone number_422-6690</th>\n",
       "      <th>phone number_422-7728</th>\n",
       "      <th>phone number_422-8268</th>\n",
       "      <th>phone number_422-8333</th>\n",
       "      <th>phone number_422-8344</th>\n",
       "      <th>phone number_422-9964</th>\n",
       "      <th>international plan_yes</th>\n",
       "      <th>voice mail plan_yes</th>\n",
       "    </tr>\n",
       "  </thead>\n",
       "  <tbody>\n",
       "    <tr>\n",
       "      <th>0</th>\n",
       "      <td>128</td>\n",
       "      <td>415</td>\n",
       "      <td>25</td>\n",
       "      <td>265.1</td>\n",
       "      <td>110</td>\n",
       "      <td>45.07</td>\n",
       "      <td>197.4</td>\n",
       "      <td>99</td>\n",
       "      <td>16.78</td>\n",
       "      <td>244.7</td>\n",
       "      <td>...</td>\n",
       "      <td>0</td>\n",
       "      <td>0</td>\n",
       "      <td>0</td>\n",
       "      <td>0</td>\n",
       "      <td>0</td>\n",
       "      <td>0</td>\n",
       "      <td>0</td>\n",
       "      <td>0</td>\n",
       "      <td>0</td>\n",
       "      <td>1</td>\n",
       "    </tr>\n",
       "    <tr>\n",
       "      <th>1</th>\n",
       "      <td>107</td>\n",
       "      <td>415</td>\n",
       "      <td>26</td>\n",
       "      <td>161.6</td>\n",
       "      <td>123</td>\n",
       "      <td>27.47</td>\n",
       "      <td>195.5</td>\n",
       "      <td>103</td>\n",
       "      <td>16.62</td>\n",
       "      <td>254.4</td>\n",
       "      <td>...</td>\n",
       "      <td>0</td>\n",
       "      <td>0</td>\n",
       "      <td>0</td>\n",
       "      <td>0</td>\n",
       "      <td>0</td>\n",
       "      <td>0</td>\n",
       "      <td>0</td>\n",
       "      <td>0</td>\n",
       "      <td>0</td>\n",
       "      <td>1</td>\n",
       "    </tr>\n",
       "    <tr>\n",
       "      <th>2</th>\n",
       "      <td>137</td>\n",
       "      <td>415</td>\n",
       "      <td>0</td>\n",
       "      <td>243.4</td>\n",
       "      <td>114</td>\n",
       "      <td>41.38</td>\n",
       "      <td>121.2</td>\n",
       "      <td>110</td>\n",
       "      <td>10.30</td>\n",
       "      <td>162.6</td>\n",
       "      <td>...</td>\n",
       "      <td>0</td>\n",
       "      <td>0</td>\n",
       "      <td>0</td>\n",
       "      <td>0</td>\n",
       "      <td>0</td>\n",
       "      <td>0</td>\n",
       "      <td>0</td>\n",
       "      <td>0</td>\n",
       "      <td>0</td>\n",
       "      <td>0</td>\n",
       "    </tr>\n",
       "    <tr>\n",
       "      <th>3</th>\n",
       "      <td>84</td>\n",
       "      <td>408</td>\n",
       "      <td>0</td>\n",
       "      <td>299.4</td>\n",
       "      <td>71</td>\n",
       "      <td>50.90</td>\n",
       "      <td>61.9</td>\n",
       "      <td>88</td>\n",
       "      <td>5.26</td>\n",
       "      <td>196.9</td>\n",
       "      <td>...</td>\n",
       "      <td>0</td>\n",
       "      <td>0</td>\n",
       "      <td>0</td>\n",
       "      <td>0</td>\n",
       "      <td>0</td>\n",
       "      <td>0</td>\n",
       "      <td>0</td>\n",
       "      <td>0</td>\n",
       "      <td>1</td>\n",
       "      <td>0</td>\n",
       "    </tr>\n",
       "    <tr>\n",
       "      <th>4</th>\n",
       "      <td>75</td>\n",
       "      <td>415</td>\n",
       "      <td>0</td>\n",
       "      <td>166.7</td>\n",
       "      <td>113</td>\n",
       "      <td>28.34</td>\n",
       "      <td>148.3</td>\n",
       "      <td>122</td>\n",
       "      <td>12.61</td>\n",
       "      <td>186.9</td>\n",
       "      <td>...</td>\n",
       "      <td>0</td>\n",
       "      <td>0</td>\n",
       "      <td>0</td>\n",
       "      <td>0</td>\n",
       "      <td>0</td>\n",
       "      <td>0</td>\n",
       "      <td>0</td>\n",
       "      <td>0</td>\n",
       "      <td>1</td>\n",
       "      <td>0</td>\n",
       "    </tr>\n",
       "  </tbody>\n",
       "</table>\n",
       "<p>5 rows × 3401 columns</p>\n",
       "</div>"
      ],
      "text/plain": [
       "   account length  area code  number vmail messages  total day minutes  \\\n",
       "0             128        415                     25              265.1   \n",
       "1             107        415                     26              161.6   \n",
       "2             137        415                      0              243.4   \n",
       "3              84        408                      0              299.4   \n",
       "4              75        415                      0              166.7   \n",
       "\n",
       "   total day calls  total day charge  total eve minutes  total eve calls  \\\n",
       "0              110             45.07              197.4               99   \n",
       "1              123             27.47              195.5              103   \n",
       "2              114             41.38              121.2              110   \n",
       "3               71             50.90               61.9               88   \n",
       "4              113             28.34              148.3              122   \n",
       "\n",
       "   total eve charge  total night minutes  ...  phone number_422-5874  \\\n",
       "0             16.78                244.7  ...                      0   \n",
       "1             16.62                254.4  ...                      0   \n",
       "2             10.30                162.6  ...                      0   \n",
       "3              5.26                196.9  ...                      0   \n",
       "4             12.61                186.9  ...                      0   \n",
       "\n",
       "   phone number_422-6685  phone number_422-6690  phone number_422-7728  \\\n",
       "0                      0                      0                      0   \n",
       "1                      0                      0                      0   \n",
       "2                      0                      0                      0   \n",
       "3                      0                      0                      0   \n",
       "4                      0                      0                      0   \n",
       "\n",
       "   phone number_422-8268  phone number_422-8333  phone number_422-8344  \\\n",
       "0                      0                      0                      0   \n",
       "1                      0                      0                      0   \n",
       "2                      0                      0                      0   \n",
       "3                      0                      0                      0   \n",
       "4                      0                      0                      0   \n",
       "\n",
       "   phone number_422-9964  international plan_yes  voice mail plan_yes  \n",
       "0                      0                       0                    1  \n",
       "1                      0                       0                    1  \n",
       "2                      0                       0                    0  \n",
       "3                      0                       1                    0  \n",
       "4                      0                       1                    0  \n",
       "\n",
       "[5 rows x 3401 columns]"
      ]
     },
     "execution_count": 57,
     "metadata": {},
     "output_type": "execute_result"
    }
   ],
   "source": [
    "# Encode Categorical Columns using one-hot encoding\n",
    "df_encoded = pd.get_dummies(df, drop_first=True)\n",
    "df_encoded.head()"
   ]
  },
  {
   "cell_type": "markdown",
   "metadata": {},
   "source": [
    "### 2.6 Confirm Final Dataset"
   ]
  },
  {
   "cell_type": "code",
   "execution_count": 58,
   "metadata": {},
   "outputs": [
    {
     "name": "stdout",
     "output_type": "stream",
     "text": [
      "<class 'pandas.core.frame.DataFrame'>\n",
      "RangeIndex: 3333 entries, 0 to 3332\n",
      "Columns: 3401 entries, account length to voice mail plan_yes\n",
      "dtypes: bool(1), float64(8), int64(8), uint8(3384)\n",
      "memory usage: 11.2 MB\n"
     ]
    }
   ],
   "source": [
    "# Check shape and structure of cleaned data\n",
    "df_encoded.info()"
   ]
  },
  {
   "cell_type": "markdown",
   "metadata": {},
   "source": [
    "## EDA and Statistics\n",
    "**We want to uncover patterns, trends, and relationships to better understand customer churn. Some guiding questions:**\n",
    "\n",
    "- 1.Which features are most associated with churn?\n",
    "\n",
    "- 2.Do customers with international plans churn more?\n",
    "\n",
    "- 3.Does the number of customer service calls relate to churn?\n",
    "\n",
    "- 4.How does usage (minutes, charges) differ between churners and non-churners?\n",
    "\n",
    "- 5.Are there any standout states with higher churn rates?"
   ]
  },
  {
   "cell_type": "markdown",
   "metadata": {},
   "source": [
    "### Importing Libraries"
   ]
  },
  {
   "cell_type": "code",
   "execution_count": 59,
   "metadata": {},
   "outputs": [],
   "source": [
    "import pandas as pd\n",
    "import matplotlib.pyplot as plt\n",
    "import seaborn as sns\n",
    "\n",
    "# Set default theme for seaborn\n",
    "sns.set(style=\"whitegrid\")"
   ]
  },
  {
   "cell_type": "markdown",
   "metadata": {},
   "source": [
    "### Churn Distribution\n",
    "\n",
    "Before analyzing features in relation to churn, let's understand the overall distribution of churned vs non-churned customers. This tells us whether we’re dealing with class imbalance."
   ]
  },
  {
   "cell_type": "code",
   "execution_count": 60,
   "metadata": {},
   "outputs": [
    {
     "name": "stdout",
     "output_type": "stream",
     "text": [
      "Churn Rate: 14.49%\n"
     ]
    },
    {
     "data": {
      "image/png": "[encoded data removed]",
      "text/plain": [
       "<Figure size 432x288 with 1 Axes>"
      ]
     },
     "metadata": {},
     "output_type": "display_data"
    }
   ],
   "source": [
    "# Plot churn distribution\n",
    "plt.figure(figsize=(6, 4))\n",
    "sns.countplot(x='churn', data=df, palette='Set2')\n",
    "plt.title(\"Churn Distribution\")\n",
    "plt.xlabel(\"Churn\")\n",
    "plt.ylabel(\"Number of Customers\")\n",
    "plt.xticks([0, 1], ['No', 'Yes'])\n",
    "\n",
    "# Show churn rate\n",
    "churn_rate = df['churn'].mean()\n",
    "print(f\"Churn Rate: {churn_rate:.2%}\")\n",
    "plt.show()"
   ]
  },
  {
   "cell_type": "markdown",
   "metadata": {},
   "source": [
    "### Churn Distribution – Interpretation\n",
    "\n",
    "The bar chart above visualizes the distribution of customers who have churned (left the service) versus those who have remained subscribed.\n",
    "\n",
    "#### Key Observations\n",
    "\n",
    "- *Most customers did not churn*  \n",
    "  The chart shows that a large majority of the customers fall under the \"No\" category, meaning they did not leave the company. This is represented by the much taller bar on the left.\n",
    "\n",
    "- *Only a small portion churned*  \n",
    "  A significantly smaller number of customers fall under the \"Yes\" category. These are the customers who have churned and are represented by the shorter bar on the right.\n",
    "\n",
    "#### Why This Matters\n",
    "\n",
    "- *Class Imbalance*  \n",
    "  This imbalance between churned and non-churned customers is critical to highlight. When training machine learning models, class imbalance can lead to a situation where the model favors the majority class (\"No churn\") and performs poorly at detecting churned customers. This will need to be addressed later in the modeling phase through techniques such as resampling or adjusting class weights.\n",
    "\n",
    "- *Business Implications*  \n",
    "  While the proportion of churned customers appears relatively small, each lost customer can represent a financial loss and potential dissatisfaction with the service. Understanding the causes of churn is essential to improving customer satisfaction and long-term retention.\n",
    "\n",
    "#### Next Steps\n",
    "\n",
    "In the next steps, I will explore how different variables (such as international plan, customer service calls, and usage behavior) relate to churn. This will help build a foundation for predictive modeling and inform actionable business strategies to reduce churn."
   ]
  },
  {
   "cell_type": "markdown",
   "metadata": {},
   "source": [
    "### Churn Rate by International Plan\n",
    "\n",
    "**Goal:**  \n",
    "Explore whether customers who have subscribed to the **International Plan** are more likely to churn than those who haven’t.\n",
    "\n",
    "To analyze this, I will:\n",
    "\n",
    "- Group the dataset by `international plan` and `churn` status.\n",
    "- Count the number of customers in each group.\n",
    "- Normalize the values to show proportions.\n",
    "- Visualize the results in a stacked bar chart to compare churn behavior for customers **with** and **without** an international plan."
   ]
  },
  {
   "cell_type": "code",
   "execution_count": 61,
   "metadata": {},
   "outputs": [
    {
     "data": {
      "image/png": "[encoded data removed]",
      "text/plain": [
       "<Figure size 504x360 with 1 Axes>"
      ]
     },
     "metadata": {},
     "output_type": "display_data"
    }
   ],
   "source": [
    "#Churn Rate by International Plan\n",
    "int_plan_churn = df.groupby(['international plan', 'churn']).size().unstack()\n",
    "\n",
    "# Normalize by row to get percentages\n",
    "int_plan_churn_percent = int_plan_churn.div(int_plan_churn.sum(axis=1), axis=0)\n",
    "\n",
    "# Plot\n",
    "int_plan_churn_percent.plot(kind='bar', stacked=True, figsize=(7,5), color=['#69b3a2', '#e9967a'])\n",
    "plt.title(\"Churn Rate by International Plan\")\n",
    "plt.xlabel(\"International Plan\")\n",
    "plt.ylabel(\"Proportion of Customers\")\n",
    "plt.legend(title=\"Churn\")\n",
    "plt.tight_layout()\n",
    "plt.show()"
   ]
  },
  {
   "cell_type": "markdown",
   "metadata": {},
   "source": [
    "### Churn Rate by International Plan - Interpretation\n",
    "\n",
    "This bar chart compares the proportion of customers who churned based on whether they were subscribed to the *International Plan*.\n",
    "\n",
    "*Key Insights:*\n",
    "\n",
    "- *Customers without an International Plan (left bar): The vast majority did **not churn*. A very small portion of this group ended their service.\n",
    "- *Customers with an International Plan (right bar): A **much higher proportion churned* compared to those without the plan.\n",
    "\n",
    "*Conclusion:*\n",
    "\n",
    "Having an International Plan appears to be *strongly associated with a higher likelihood of churn*. This could suggest that customers using international services are less satisfied or have higher expectations that aren't being met.\n",
    "\n",
    "This is an important signal for the business—it may be worth investigating the International Plan’s pricing, service quality, or customer support experience."
   ]
  },
  {
   "cell_type": "markdown",
   "metadata": {},
   "source": [
    "## Customer Service Calls and Churn\n",
    "\n",
    "*Objective:* Investigate whether the number of calls a customer makes to customer service is related to their likelihood of churning.\n",
    "\n",
    "To do this, we will:\n",
    "\n",
    "- Group customers based on the number of customer service calls.\n",
    "- Calculate the churn rate for each group.\n",
    "- Visualize the relationship between customer service interactions and churn behavior.\n",
    "\n",
    "This will help us determine if frequent customer service interactions are a warning sign of dissatisfaction leading to churn."
   ]
  },
  {
   "cell_type": "code",
   "execution_count": 62,
   "metadata": {},
   "outputs": [
    {
     "data": {
      "image/png": "[encoded data removed]",
      "text/plain": [
       "<Figure size 576x360 with 1 Axes>"
      ]
     },
     "metadata": {},
     "output_type": "display_data"
    }
   ],
   "source": [
    "# Group data by number of customer service calls and churn\n",
    "cs_calls_churn = df.groupby(['customer service calls', 'churn']).size().unstack()\n",
    "\n",
    "# Normalize to get proportions\n",
    "cs_calls_churn_percent = cs_calls_churn.div(cs_calls_churn.sum(axis=1), axis=0)\n",
    "\n",
    "# Plot\n",
    "cs_calls_churn_percent.plot(kind='bar', stacked=True, figsize=(8,5), color=['#69b3a2', '#e9967a'])\n",
    "plt.title(\"Churn Rate by Customer Service Calls\")\n",
    "plt.xlabel(\"Customer Service Calls\")\n",
    "plt.ylabel(\"Proportion of Customers\")\n",
    "plt.legend(title=\"Churn\")\n",
    "plt.tight_layout()\n",
    "plt.show()"
   ]
  },
  {
   "cell_type": "markdown",
   "metadata": {},
   "source": [
    "## Interpretation: Churn Rate by Customer Service Calls\n",
    "\n",
    "This stacked bar chart shows how the likelihood of a customer churning varies depending on the number of times they contacted customer service.\n",
    "\n",
    "### Key Observations\n",
    "\n",
    "- *Low Churn with Few Calls:*  \n",
    "  Customers who made *0 to 3 customer service calls* have a *very low churn rate*. Most of them are retained (green portion), indicating satisfaction or fewer issues.\n",
    "\n",
    "- *Churn Rises After 3 Calls:*  \n",
    "  Starting from *4 calls and above*, the churn rate begins to increase significantly.  \n",
    "  By *5 or more calls*, more customers are churning (orange portion becomes dominant).\n",
    "\n",
    "- *High Churn Beyond 5 Calls:*  \n",
    "  At *6 or more calls, the churn rate is very high — in some cases, **more than half* of the customers who contacted support this many times ended up churning.\n",
    "\n",
    "### Interpretation\n",
    "\n",
    "This trend strongly suggests a *relationship between customer dissatisfaction and churn*:\n",
    "- Frequent contact with customer service likely signals unresolved problems or frustration.\n",
    "- When issues aren't resolved promptly or effectively, customers are more likely to leave.\n",
    "\n",
    "### Implication for the Business\n",
    "\n",
    "- The company should *analyze customer service interactions closely*, especially for those who call multiple times.\n",
    "- Taking *proactive steps* to resolve issues quickly for customers who call *more than 3 times* might significantly reduce churn."
   ]
  },
  {
   "cell_type": "markdown",
   "metadata": {},
   "source": [
    "## Churn vs Total Day Minutes\n",
    "\n",
    "### Objective:\n",
    "Determine if higher usage during the day (in terms of total minutes) has any relation to customer churn."
   ]
  },
  {
   "cell_type": "code",
   "execution_count": 63,
   "metadata": {},
   "outputs": [
    {
     "data": {
      "image/png": "[encoded data removed]",
      "text/plain": [
       "<Figure size 576x360 with 1 Axes>"
      ]
     },
     "metadata": {},
     "output_type": "display_data"
    }
   ],
   "source": [
    "# Set style\n",
    "sns.set(style=\"whitegrid\")\n",
    "\n",
    "# Plot\n",
    "plt.figure(figsize=(8, 5))\n",
    "sns.boxplot(x='churn', y='total day minutes', data=df, palette=['#69b3a2', '#e9967a'])\n",
    "plt.title('Churn vs. Total Day Minutes')\n",
    "plt.xlabel('Churn')\n",
    "plt.ylabel('Total Day Minutes')\n",
    "plt.tight_layout()\n",
    "plt.show()"
   ]
  },
  {
   "cell_type": "markdown",
   "metadata": {},
   "source": [
    "## Interpretation: Churn vs Total Day Minutes\n",
    "\n",
    "This boxplot compares the distribution of total day minutes used by customers who churned versus those who did not.\n",
    "\n",
    "###  Key Observations\n",
    "\n",
    "- *Higher Usage Among Churned Customers*:\n",
    "  - Customers who churned tend to have higher total day minutes compared to those who stayed.\n",
    "  - The median (middle line in the box) for churned customers is visibly higher.\n",
    "\n",
    "- *Wider Spread in Churned Group*:\n",
    "  - The churned group shows more variability, with some customers using significantly more minutes than the average.\n",
    "\n",
    "- *Potential Outliers*:\n",
    "  - There are a few extreme outliers among the churned group, indicating very high usage for a small subset of customers.\n",
    "\n",
    "###  Interpretation\n",
    "\n",
    "This pattern suggests a correlation between *higher daytime usage* and *likelihood of churn*:\n",
    "\n",
    "- Heavy users may have *higher expectations* or are more likely to experience *network or billing issues*, leading to dissatisfaction.\n",
    "- Alternatively, the pricing model might not favor high-usage customers, prompting them to switch providers.\n",
    "\n",
    "###  Implication for the Business\n",
    "\n",
    "- Analyze the experience of high-usage customers — Are they facing service degradation? Are they unhappy with pricing?\n",
    "- Consider *loyalty programs or better plans* for heavy users to prevent them from churning.\n",
    "- Use this insight to *segment customers by usage* and apply *targeted retention strategies*."
   ]
  },
  {
   "cell_type": "markdown",
   "metadata": {},
   "source": [
    "### Churn vs Customer Service Calls (Categorical)\n",
    "\n",
    "###  Objective\n",
    "\n",
    "Investigate the relationship between the number of customer service calls and churn, with a focus on understanding if increased customer service interactions correlate with higher churn rates."
   ]
  },
  {
   "cell_type": "code",
   "execution_count": 64,
   "metadata": {},
   "outputs": [
    {
     "data": {
      "image/png": "[encoded data removed]",
      "text/plain": [
       "<Figure size 576x360 with 1 Axes>"
      ]
     },
     "metadata": {},
     "output_type": "display_data"
    }
   ],
   "source": [
    "# Set style\n",
    "sns.set(style=\"whitegrid\")\n",
    "\n",
    "# Plot\n",
    "plt.figure(figsize=(8, 5))\n",
    "sns.countplot(x='customer service calls', hue='churn', data=df, palette='Set2')\n",
    "plt.title('Churn by Customer Service Calls')\n",
    "plt.xlabel('Customer Service Calls')\n",
    "plt.ylabel('Number of Customers')\n",
    "plt.tight_layout()\n",
    "plt.show()"
   ]
  },
  {
   "cell_type": "markdown",
   "metadata": {},
   "source": [
    "### Interpretation: Churn vs Customer Service Calls (Categorical)\n",
    "\n",
    "This count plot visualizes the number of customer service calls made by customers and how it relates to churn.\n",
    "\n",
    "####  Key Observations\n",
    "\n",
    "- *Higher Churn with More Calls*:  \n",
    "  Customers who made 4 or more customer service calls are significantly more likely to churn.\n",
    "\n",
    "- *Majority Didn't Call Much*:  \n",
    "  Most customers, both churned and non-churned, made fewer than 3 calls.\n",
    "\n",
    "- *Churn Rate Spikes After 3 Calls*:  \n",
    "  The churn rate sharply increases for customers who contacted customer service frequently."
   ]
  },
  {
   "cell_type": "markdown",
   "metadata": {},
   "source": [
    "## Statistics\n",
    "\n",
    "### Objective\n",
    "\n",
    "To perform statistical analysis on the dataset to determine whether the differences observed in earlier visualizations (e.g., churn vs. total minutes, service plans, etc.) are statistically significant. This helps to validate whether patterns are likely due to chance or represent meaningful relationships."
   ]
  },
  {
   "cell_type": "markdown",
   "metadata": {},
   "source": [
    "## Descriptive Statistics by Churn\n",
    "\n",
    "###  Objective\n",
    "\n",
    "To summarize and compare key statistics (mean, median, standard deviation, etc.) between customers who churned and those who didn’t, across relevant features. This provides a clearer picture of behavioral or usage differences."
   ]
  },
  {
   "cell_type": "code",
   "execution_count": 65,
   "metadata": {},
   "outputs": [
    {
     "data": {
      "text/html": [
       "<div>\n",
       "<style scoped>\n",
       "    .dataframe tbody tr th:only-of-type {\n",
       "        vertical-align: middle;\n",
       "    }\n",
       "\n",
       "    .dataframe tbody tr th {\n",
       "        vertical-align: top;\n",
       "    }\n",
       "\n",
       "    .dataframe thead th {\n",
       "        text-align: right;\n",
       "    }\n",
       "</style>\n",
       "<table border=\"1\" class=\"dataframe\">\n",
       "  <thead>\n",
       "    <tr style=\"text-align: right;\">\n",
       "      <th></th>\n",
       "      <th>churn</th>\n",
       "      <th>False</th>\n",
       "      <th>True</th>\n",
       "    </tr>\n",
       "  </thead>\n",
       "  <tbody>\n",
       "    <tr>\n",
       "      <th rowspan=\"5\" valign=\"top\">account length</th>\n",
       "      <th>count</th>\n",
       "      <td>2850.000000</td>\n",
       "      <td>483.000000</td>\n",
       "    </tr>\n",
       "    <tr>\n",
       "      <th>mean</th>\n",
       "      <td>100.793684</td>\n",
       "      <td>102.664596</td>\n",
       "    </tr>\n",
       "    <tr>\n",
       "      <th>std</th>\n",
       "      <td>39.882350</td>\n",
       "      <td>39.467820</td>\n",
       "    </tr>\n",
       "    <tr>\n",
       "      <th>min</th>\n",
       "      <td>1.000000</td>\n",
       "      <td>1.000000</td>\n",
       "    </tr>\n",
       "    <tr>\n",
       "      <th>25%</th>\n",
       "      <td>73.000000</td>\n",
       "      <td>76.000000</td>\n",
       "    </tr>\n",
       "    <tr>\n",
       "      <th>...</th>\n",
       "      <th>...</th>\n",
       "      <td>...</td>\n",
       "      <td>...</td>\n",
       "    </tr>\n",
       "    <tr>\n",
       "      <th rowspan=\"5\" valign=\"top\">customer service calls</th>\n",
       "      <th>min</th>\n",
       "      <td>0.000000</td>\n",
       "      <td>0.000000</td>\n",
       "    </tr>\n",
       "    <tr>\n",
       "      <th>25%</th>\n",
       "      <td>1.000000</td>\n",
       "      <td>1.000000</td>\n",
       "    </tr>\n",
       "    <tr>\n",
       "      <th>50%</th>\n",
       "      <td>1.000000</td>\n",
       "      <td>2.000000</td>\n",
       "    </tr>\n",
       "    <tr>\n",
       "      <th>75%</th>\n",
       "      <td>2.000000</td>\n",
       "      <td>4.000000</td>\n",
       "    </tr>\n",
       "    <tr>\n",
       "      <th>max</th>\n",
       "      <td>8.000000</td>\n",
       "      <td>9.000000</td>\n",
       "    </tr>\n",
       "  </tbody>\n",
       "</table>\n",
       "<p>128 rows × 2 columns</p>\n",
       "</div>"
      ],
      "text/plain": [
       "churn                               False       True \n",
       "account length         count  2850.000000  483.000000\n",
       "                       mean    100.793684  102.664596\n",
       "                       std      39.882350   39.467820\n",
       "                       min       1.000000    1.000000\n",
       "                       25%      73.000000   76.000000\n",
       "...                                   ...         ...\n",
       "customer service calls min       0.000000    0.000000\n",
       "                       25%       1.000000    1.000000\n",
       "                       50%       1.000000    2.000000\n",
       "                       75%       2.000000    4.000000\n",
       "                       max       8.000000    9.000000\n",
       "\n",
       "[128 rows x 2 columns]"
      ]
     },
     "execution_count": 65,
     "metadata": {},
     "output_type": "execute_result"
    }
   ],
   "source": [
    "# Group by churn and calculate descriptive statistics\n",
    "churn_stats = df.groupby('churn').describe()\n",
    "\n",
    "# Display summary\n",
    "churn_stats.T  # Transpose for better readability"
   ]
  },
  {
   "cell_type": "markdown",
   "metadata": {},
   "source": [
    "### Interpretation: Descriptive Statistics by Churn\n",
    "\n",
    "This analysis provides summary statistics for numerical features, grouped by customer churn status.\n",
    "\n",
    "#### Key Observations:\n",
    "\n",
    "- *Account Length:*\n",
    "  - Mean account length is slightly higher for churned customers (102.7) compared to non-churned (100.8).\n",
    "  - Standard deviations are similar, indicating comparable spread.\n",
    "  - Not a strong differentiator on its own.\n",
    "\n",
    "- *Customer Service Calls:*\n",
    "  - Median (50%) number of calls for churned customers is *2, compared to **1* for non-churned.\n",
    "  - The upper quartile (75%) is *4* for churned vs. *2* for non-churned, and the maximum is slightly higher (9 vs. 8).\n",
    "  - Indicates that churned customers tend to contact customer service more often.\n",
    "\n",
    "#### Implication:\n",
    "\n",
    "- Features like *customer service calls* show clearer distinctions between churned and non-churned groups and may serve as a useful predictor in churn modeling.\n",
    "- Other variables like account length show only minor differences and might have less predictive power individually.\n",
    "\n",
    "This analysis provides summary statistics for numerical features, grouped by customer churn status."
   ]
  },
  {
   "cell_type": "markdown",
   "metadata": {},
   "source": [
    "## Independent T-Test: Total Night Minutes\n",
    "\n",
    "*Objective:*  \n",
    "To test whether the average total night minutes differ significantly between churned and non-churned customers using an *Independent Samples T-Test*.\n",
    "\n",
    "This statistical test helps determine whether the observed difference in means (if any) is statistically significant or likely due to random chance.\n",
    "\n",
    "---\n",
    "\n",
    "*Hypotheses:*\n",
    "\n",
    "- *Null Hypothesis (H₀):*  \n",
    "  There is *no significant difference* in total night minutes between churned and non-churned customers.\n",
    "\n",
    "- *Alternative Hypothesis (H₁):*  \n",
    "  There *is a significant difference* in total night minutes between churned and non-churned customers.\n",
    "\n",
    "---\n",
    "\n",
    "*Assumptions for T-Test:*\n",
    "\n",
    "- Data in each group is approximately *normally distributed*.\n",
    "- Variances between groups are *roughly equal* (or Welch's t-test is used otherwise).\n",
    "- Observations are *independent*."
   ]
  },
  {
   "cell_type": "code",
   "execution_count": 66,
   "metadata": {},
   "outputs": [
    {
     "name": "stdout",
     "output_type": "stream",
     "text": [
      "T-statistic: 2.1708889020090862\n",
      "P-value: 0.030280490212476915\n",
      " There is a statistically significant difference in total night minutes between churned and non-churned customers.\n"
     ]
    }
   ],
   "source": [
    "from scipy.stats import ttest_ind\n",
    "\n",
    "# Separate groups\n",
    "churned = df[df['churn'] == True]['total night minutes']\n",
    "not_churned = df[df['churn'] == False]['total night minutes']\n",
    "\n",
    "# Perform Independent T-Test\n",
    "t_stat, p_value = ttest_ind(churned, not_churned, equal_var=False)  # Welch's t-test\n",
    "\n",
    "# Output results\n",
    "print(\"T-statistic:\", t_stat)\n",
    "print(\"P-value:\", p_value)\n",
    "\n",
    "# Interpretation guidance\n",
    "if p_value < 0.05:\n",
    "    print(\" There is a statistically significant difference in total night minutes between churned and non-churned customers.\")\n",
    "else:\n",
    "    print(\" No statistically significant difference found.\")"
   ]
  },
  {
   "cell_type": "markdown",
   "metadata": {},
   "source": [
    "##  Independent T-Test: Total Night Minutes\n",
    "\n",
    "### Objective:\n",
    "To test whether the average total night minutes differ significantly between churned and non-churned customers using an Independent Samples T-Test.\n",
    "\n",
    "---\n",
    "\n",
    "###  Hypotheses:\n",
    "\n",
    "- *Null Hypothesis (H₀):*  \n",
    "  There is no significant difference in total night minutes between churned and non-churned customers.\n",
    "\n",
    "- *Alternative Hypothesis (H₁):*  \n",
    "  There is a significant difference in total night minutes between churned and non-churned customers.\n",
    "\n",
    "---\n",
    "\n",
    "###  Assumptions for the T-Test:\n",
    "- Observations are independent.\n",
    "- Data in each group is approximately normally distributed.\n",
    "- Variances between groups are not assumed equal (Welch’s t-test used).\n",
    "\n",
    "---\n",
    "\n",
    "###  Results:\n",
    "\n",
    "- *T-statistic:* 2.17  \n",
    "- *P-value:* 0.0303\n",
    "\n",
    "---\n",
    "\n",
    "###  Interpretation:\n",
    "\n",
    "Since the *p-value (0.0303)* is *less than 0.05, we **reject the null hypothesis*.  \n",
    " This means there is a *statistically significant difference* in average total night minutes between customers who churned and those who did not.\n",
    "\n",
    "This insight can be valuable for churn prediction modeling, suggesting that night usage behavior differs between the two groups."
   ]
  },
  {
   "cell_type": "markdown",
   "metadata": {},
   "source": [
    "## Independent T-Test: Customer Service Calls\n",
    "\n",
    " *Objective*  \n",
    "To assess whether the average number of customer service calls differs significantly between customers who churned and those who did not using an Independent Samples T-Test.\n",
    "\n",
    "This test helps determine if frequent customer service contact is statistically associated with higher churn likelihood.\n",
    "\n",
    "---\n",
    "\n",
    "###  Hypotheses\n",
    "\n",
    "- *Null Hypothesis (H₀):*  \n",
    "  There is no significant difference in the number of customer service calls between churned and non-churned customers.\n",
    "\n",
    "- *Alternative Hypothesis (H₁):*  \n",
    "  There is a significant difference in the number of customer service calls between churned and non-churned customers."
   ]
  },
  {
   "cell_type": "code",
   "execution_count": 68,
   "metadata": {},
   "outputs": [
    {
     "name": "stdout",
     "output_type": "stream",
     "text": [
      "T-statistic: 8.95514138244338\n",
      "P-value: 5.270040385717215e-18\n"
     ]
    }
   ],
   "source": [
    "from scipy.stats import ttest_ind\n",
    "\n",
    "# Separate the data into two groups\n",
    "churned_calls = df[df['churn'] == True]['customer service calls']\n",
    "not_churned_calls = df[df['churn'] == False]['customer service calls']\n",
    "\n",
    "# Perform the independent t-test\n",
    "t_stat_calls, p_val_calls = ttest_ind(churned_calls, not_churned_calls, equal_var=False)\n",
    "\n",
    "# Print the results\n",
    "print(\"T-statistic:\", t_stat_calls)\n",
    "print(\"P-value:\", p_val_calls)"
   ]
  },
  {
   "cell_type": "markdown",
   "metadata": {},
   "source": [
    "### T-Test Results: Customer Service Calls\n",
    "\n",
    "*T-statistic:* 8.96  \n",
    "*P-value:* 5.27 × 10⁻¹⁸\n",
    "\n",
    "####  Interpretation:\n",
    "\n",
    "- The *very high T-statistic* and *extremely low p-value* (far below the 0.05 threshold) indicate a *highly statistically significant difference* in the number of customer service calls between customers who churned and those who did not.\n",
    "- This strongly suggests that *churned customers tend to make more customer service calls* than non-churned customers.\n",
    "\n",
    "####  Implication:\n",
    "Customer service call frequency is a *key predictive feature* for churn. High volumes of service calls may signal dissatisfaction, making it a valuable input for churn prediction models."
   ]
  },
  {
   "cell_type": "markdown",
   "metadata": {},
   "source": [
    "## Correlation Matrix\n",
    "\n",
    " *Objective*  \n",
    "To examine the strength and direction of relationships between numerical variables in the dataset, including how they correlate with churn.\n",
    "\n",
    "Understanding correlations helps identify:\n",
    "- Redundant variables\n",
    "- Key influencers on churn\n",
    "- Potential multicollinearity issues before model building\n",
    "\n",
    " *Approach*\n",
    "- Calculate the Pearson correlation coefficient between all numerical features.\n",
    "- Visualize the results using a heatmap for easy interpretation.\n",
    "- Pay special attention to variables with strong positive or negative correlation with churn.\n",
    "\n",
    " *Note*  \n",
    "Correlation does not imply causation. High correlation between a feature and churn doesn’t guarantee it's the cause but indicates a potential predictive relationship."
   ]
  },
  {
   "cell_type": "code",
   "execution_count": 69,
   "metadata": {},
   "outputs": [
    {
     "data": {
      "image/png": "[encoded data removed]",
      "text/plain": [
       "<Figure size 864x576 with 2 Axes>"
      ]
     },
     "metadata": {},
     "output_type": "display_data"
    }
   ],
   "source": [
    "# Note: Correlation does not imply causation.\n",
    "# High correlation indicates a predictive relationship, not causality.\n",
    "\n",
    "# Select only numeric columns for correlation\n",
    "numeric_df = df.select_dtypes(include='number')\n",
    "corr_matrix = numeric_df.corr()\n",
    "\n",
    "# Plot heatmap\n",
    "plt.figure(figsize=(12, 8))\n",
    "sns.heatmap(corr_matrix, annot=True, cmap='coolwarm', fmt=\".2f\", linewidths=0.5)\n",
    "plt.title('Correlation Matrix of Numerical Features')\n",
    "plt.tight_layout()\n",
    "plt.show()"
   ]
  },
  {
   "cell_type": "markdown",
   "metadata": {},
   "source": [
    "##  Correlation Matrix Interpretation\n",
    "\n",
    "This heatmap visualizes the correlation between numerical features in the dataset. Correlation values range from *-1 to 1*:\n",
    "\n",
    "- *+1* → Perfect positive correlation (as one variable increases, the other increases)\n",
    "- *-1* → Perfect negative correlation (as one increases, the other decreases)\n",
    "- *0* → No linear relationship\n",
    "\n",
    "---\n",
    "\n",
    "###  Key Observations\n",
    "\n",
    "####  Strong Positive Correlations (≈ 1.00)\n",
    "\n",
    "| Feature Pair                           | Correlation | Interpretation |\n",
    "|----------------------------------------|-------------|----------------|\n",
    "| total day minutes & total day charge     | *1.00*      | Charges are directly based on usage. |\n",
    "| total eve minutes & total eve charge     | *1.00*      | Linear billing relationship. |\n",
    "| total night minutes & total night charge | *1.00*      | Charges are proportional to minutes. |\n",
    "| total intl minutes & total intl charge   | *1.00*      | Charges stem directly from international usage. |\n",
    "\n",
    "> These perfect correlations are expected due to the way charges are calculated.\n",
    "\n",
    "---\n",
    "\n",
    "####  Low or No Correlation (≈ 0)\n",
    "\n",
    "Most other features have weak or no linear relationships:\n",
    "\n",
    "- customer service calls with all other features\n",
    "- number vmail messages with usage or billing features\n",
    "- account length with usage patterns or charges\n",
    "\n",
    "> These features contribute independent signals to the dataset.\n",
    "\n",
    "---\n",
    "\n",
    "####  Weak Negative Correlations (≈ -0.01)\n",
    "\n",
    "- area code shows weak negative correlation with some variables.\n",
    "- No significant inverse relationships observed.\n",
    "\n",
    "---\n",
    "\n",
    "###  Recommendations for Modeling\n",
    "\n",
    "- *Remove redundant features* (e.g., drop charges or minutes where correlation = 1.0) to avoid multicollinearity in models like *linear regression*.\n",
    "- *Retain independent features* such as:\n",
    "  - customer service calls\n",
    "  - number vmail messages\n",
    "  - total intl calls\n",
    "\n",
    "These may offer valuable signals for prediction tasks."
   ]
  },
  {
   "cell_type": "markdown",
   "metadata": {},
   "source": [
    "### One-Way ANOVA — Total Day Minutes by Area Code\n",
    "\n",
    "###  Objective:\n",
    "To determine if there's a statistically significant difference in *total day minutes* across different *area codes*.\n",
    "\n",
    "---\n",
    "\n",
    "###  Hypotheses:\n",
    "\n",
    "- *Null Hypothesis (H₀):*  \n",
    "  There is *no significant difference* in total day minutes across area codes.\n",
    "\n",
    "- *Alternative Hypothesis (H₁):*  \n",
    "  At least *one area code group* has a *significantly different mean* of total day minutes.\n",
    "\n",
    "\n",
    "###  Assumptions:\n",
    "\n",
    "1. *Independence:*  \n",
    "   Samples are independent of each other.\n",
    "\n",
    "2. *Normality:*  \n",
    "   The data in each group is approximately *normally distributed*.\n",
    "\n",
    "3. *Homogeneity of Variance:*  \n",
    "   Variance is *roughly equal across all groups* (homoscedasticity)."
   ]
  },
  {
   "cell_type": "code",
   "execution_count": 71,
   "metadata": {},
   "outputs": [
    {
     "name": "stdout",
     "output_type": "stream",
     "text": [
      "F-statistic: 2.0152078300949974\n",
      "P-value: 0.1334552217622214\n"
     ]
    }
   ],
   "source": [
    "from scipy.stats import f_oneway\n",
    "\n",
    "# Separate groups based on area code\n",
    "group_408 = df[df['area code'] == 408]['total day minutes']\n",
    "group_415 = df[df['area code'] == 415]['total day minutes']\n",
    "group_510 = df[df['area code'] == 510]['total day minutes']\n",
    "\n",
    "# Run one-way ANOVA\n",
    "f_stat, p_value = f_oneway(group_408, group_415, group_510)\n",
    "\n",
    "print(f\"F-statistic: {f_stat}\")\n",
    "print(f\"P-value: {p_value}\")"
   ]
  },
  {
   "cell_type": "markdown",
   "metadata": {},
   "source": [
    "##  Interpretation:\n",
    "Since the p-value (0.1335) > 0.05, we fail to reject the null hypothesis.\n",
    "\n",
    "This means that there is no statistically significant difference in the mean total day minutes among area codes 408, 415, and 510.\n",
    "\n",
    "## Conclusion:\n",
    "Area code does not significantly affect the total day minutes. Users from different area codes spend a similar amount of time on calls during the day."
   ]
  },
  {
   "cell_type": "markdown",
   "metadata": {},
   "source": [
    "### Machine Learning Models\n",
    "### Prepare Data for Modeling\n",
    "\n",
    "Before training models, we need to:\n",
    "\n",
    "- Separate features (X) and target (y)\n",
    "\n",
    "- Split into train and test sets\n",
    "\n",
    "- Optionally standardize or normalize features for certain models like KNN and Logistic Regression"
   ]
  },
  {
   "cell_type": "code",
   "execution_count": 72,
   "metadata": {},
   "outputs": [],
   "source": [
    "# Model selection and preprocessing\n",
    "from sklearn.model_selection import train_test_split\n",
    "from sklearn.preprocessing import StandardScaler\n",
    "\n",
    "# Classification models\n",
    "from sklearn.linear_model import LogisticRegression\n",
    "from sklearn.ensemble import RandomForestClassifier, GradientBoostingClassifier\n",
    "from sklearn.neighbors import KNeighborsClassifier\n",
    "from xgboost import XGBClassifier\n",
    "\n",
    "# Evaluation metrics\n",
    "from sklearn.metrics import classification_report, confusion_matrix, roc_auc_score, roc_curve, precision_recall_curve\n"
   ]
  },
  {
   "cell_type": "markdown",
   "metadata": {},
   "source": [
    "## Data Splitting and Feature Scaling"
   ]
  },
  {
   "cell_type": "code",
   "execution_count": 74,
   "metadata": {},
   "outputs": [],
   "source": [
    "from sklearn.model_selection import train_test_split\n",
    "from sklearn.preprocessing import StandardScaler\n",
    "from sklearn.preprocessing import OneHotEncoder\n",
    "from sklearn.compose import ColumnTransformer\n",
    "from sklearn.pipeline import Pipeline\n",
    "import pandas as pd\n",
    "\n",
    "# Separate features and target\n",
    "X = df.drop('churn', axis=1)\n",
    "y = df['churn']\n",
    "\n",
    "# Identify categorical and numerical columns\n",
    "categorical_cols = X.select_dtypes(include=['object']).columns.tolist()\n",
    "numerical_cols = X.select_dtypes(include=['int64', 'float64']).columns.tolist()\n",
    "\n",
    "# Split the data (stratify for class balance)\n",
    "X_train, X_test, y_train, y_test = train_test_split(\n",
    "    X, y, test_size=0.2, random_state=42, stratify=y\n",
    ")\n",
    "\n",
    "# Create transformers\n",
    "numeric_transformer = StandardScaler()\n",
    "categorical_transformer = OneHotEncoder(handle_unknown='ignore')\n",
    "\n",
    "# Column transformer to handle both types\n",
    "preprocessor = ColumnTransformer(\n",
    "    transformers=[\n",
    "        ('num', numeric_transformer, numerical_cols),\n",
    "        ('cat', categorical_transformer, categorical_cols)\n",
    "    ]\n",
    ")\n",
    "\n",
    "# Apply transformations\n",
    "X_train_processed = preprocessor.fit_transform(X_train)\n",
    "X_test_processed = preprocessor.transform(X_test)\n",
    "\n"
   ]
  },
  {
   "cell_type": "markdown",
   "metadata": {},
   "source": [
    "### Logistic Regression with Pipeline, Evaluation & Interpretation\n",
    "We’ll use a pipeline that combines preprocessing and model training, and evaluate the model with:\n",
    "\n",
    "- Classification report\n",
    "\n",
    "- Confusion matrix\n",
    "\n",
    "- ROC curve\n",
    "- Heatmap visualization\n",
    "\n"
   ]
  },
  {
   "cell_type": "markdown",
   "metadata": {},
   "source": [
    "### Logistic Regression Model"
   ]
  },
  {
   "cell_type": "code",
   "execution_count": 76,
   "metadata": {},
   "outputs": [],
   "source": [
    "from sklearn.linear_model import LogisticRegression\n",
    "from sklearn.pipeline import Pipeline\n",
    "from sklearn.metrics import classification_report, confusion_matrix, ConfusionMatrixDisplay, roc_curve, auc\n",
    "import matplotlib.pyplot as plt\n",
    "import seaborn as sns\n",
    "\n",
    "# Create pipeline\n",
    "logreg_pipeline = Pipeline(steps=[\n",
    "    ('preprocessor', preprocessor),\n",
    "    ('classifier', LogisticRegression(max_iter=1000, random_state=42))\n",
    "])\n",
    "\n",
    "# Train the model\n",
    "logreg_pipeline.fit(X_train, y_train)\n",
    "\n",
    "# Predict\n",
    "y_pred = logreg_pipeline.predict(X_test)\n",
    "y_proba = logreg_pipeline.predict_proba(X_test)[:, 1]  # probabilities for ROC\n"
   ]
  },
  {
   "cell_type": "code",
   "execution_count": 77,
   "metadata": {},
   "outputs": [
    {
     "name": "stdout",
     "output_type": "stream",
     "text": [
      "Classification Report (Logistic Regression):\n",
      "\n",
      "              precision    recall  f1-score   support\n",
      "\n",
      "       False       0.88      0.96      0.92       570\n",
      "        True       0.53      0.25      0.34        97\n",
      "\n",
      "    accuracy                           0.86       667\n",
      "   macro avg       0.71      0.61      0.63       667\n",
      "weighted avg       0.83      0.86      0.84       667\n",
      "\n"
     ]
    }
   ],
   "source": [
    "print(\"Classification Report (Logistic Regression):\\n\")\n",
    "print(classification_report(y_test, y_pred))\n"
   ]
  },
  {
   "cell_type": "markdown",
   "metadata": {},
   "source": [
    "### Confusion Matrix + Heatmap"
   ]
  },
  {
   "cell_type": "code",
   "execution_count": 80,
   "metadata": {},
   "outputs": [
    {
     "data": {
      "image/png": "[encoded data removed]",
      "text/plain": [
       "<Figure size 432x288 with 2 Axes>"
      ]
     },
     "metadata": {},
     "output_type": "display_data"
    }
   ],
   "source": [
    "cm = confusion_matrix(y_test, y_pred)\n",
    "disp = ConfusionMatrixDisplay(confusion_matrix=cm, display_labels=[\"Stayed\", \"Churned\"])\n",
    "disp.plot(cmap=\"YlGnBu\")\n",
    "plt.title(\"Logistic Regression - Confusion Matrix\")\n",
    "plt.show()\n"
   ]
  },
  {
   "cell_type": "markdown",
   "metadata": {},
   "source": [
    "### ROC Curve"
   ]
  },
  {
   "cell_type": "code",
   "execution_count": 82,
   "metadata": {},
   "outputs": [
    {
     "data": {
      "image/png": "[encoded data removed]",
      "text/plain": [
       "<Figure size 432x288 with 1 Axes>"
      ]
     },
     "metadata": {},
     "output_type": "display_data"
    }
   ],
   "source": [
    "fpr, tpr, thresholds = roc_curve(y_test, y_proba)\n",
    "roc_auc = auc(fpr, tpr)\n",
    "\n",
    "plt.figure(figsize=(6, 4))\n",
    "plt.plot(fpr, tpr, color='darkorange', lw=2, label='AUC = %0.2f' % roc_auc)\n",
    "plt.plot([0, 1], [0, 1], color='gray', linestyle='--')\n",
    "plt.xlabel('False Positive Rate')\n",
    "plt.ylabel('True Positive Rate')\n",
    "plt.title('ROC Curve - Logistic Regression')\n",
    "plt.legend(loc=\"lower right\")\n",
    "plt.tight_layout()\n",
    "plt.show()\n"
   ]
  },
  {
   "cell_type": "markdown",
   "metadata": {},
   "source": [
    "### Interpretation\n",
    "Precision & Recall: From the classification report, analyze how well the model performs for churned customers.\n",
    "\n",
    "Confusion Matrix: Helps you see false positives vs true negatives.\n",
    "\n",
    "ROC AUC: AUC closer to 1 = better model. If < 0.7, performance is modest."
   ]
  },
  {
   "cell_type": "markdown",
   "metadata": {},
   "source": [
    "### Random Forest Classifier with Pipeline, Evaluation & Interpretation\n",
    "Random Forest is a robust ensemble method that helps reduce overfitting and captures nonlinear patterns."
   ]
  },
  {
   "cell_type": "markdown",
   "metadata": {},
   "source": [
    "## Random Forest Model & Pipeline"
   ]
  },
  {
   "cell_type": "code",
   "execution_count": 86,
   "metadata": {},
   "outputs": [],
   "source": [
    "from sklearn.ensemble import RandomForestClassifier\n",
    "\n",
    "# Create pipeline\n",
    "rf_pipeline = Pipeline(steps=[\n",
    "    ('preprocessor', preprocessor),\n",
    "    ('classifier', RandomForestClassifier(n_estimators=100, random_state=42))\n",
    "])\n",
    "\n",
    "# Train the model\n",
    "rf_pipeline.fit(X_train, y_train)\n",
    "\n",
    "# Predict\n",
    "y_pred_rf = rf_pipeline.predict(X_test)\n",
    "y_proba_rf = rf_pipeline.predict_proba(X_test)[:, 1]\n"
   ]
  },
  {
   "cell_type": "code",
   "execution_count": 87,
   "metadata": {},
   "outputs": [
    {
     "name": "stdout",
     "output_type": "stream",
     "text": [
      "Classification Report (Random Forest):\n",
      "\n",
      "              precision    recall  f1-score   support\n",
      "\n",
      "       False       0.90      0.99      0.95       570\n",
      "        True       0.93      0.38      0.54        97\n",
      "\n",
      "    accuracy                           0.91       667\n",
      "   macro avg       0.91      0.69      0.74       667\n",
      "weighted avg       0.91      0.91      0.89       667\n",
      "\n"
     ]
    }
   ],
   "source": [
    "# Classification Report\n",
    "\n",
    "print(\"Classification Report (Random Forest):\\n\")\n",
    "print(classification_report(y_test, y_pred_rf))"
   ]
  },
  {
   "cell_type": "markdown",
   "metadata": {},
   "source": [
    "### Confusion Matrix + Heatmap"
   ]
  },
  {
   "cell_type": "code",
   "execution_count": 89,
   "metadata": {},
   "outputs": [
    {
     "data": {
      "image/png": "[encoded data removed]",
      "text/plain": [
       "<Figure size 432x288 with 2 Axes>"
      ]
     },
     "metadata": {},
     "output_type": "display_data"
    }
   ],
   "source": [
    "cm_rf = confusion_matrix(y_test, y_pred_rf)\n",
    "disp_rf = ConfusionMatrixDisplay(confusion_matrix=cm_rf, display_labels=[\"Stayed\", \"Churned\"])\n",
    "disp_rf.plot(cmap=\"BuPu\")\n",
    "plt.title(\"Random Forest - Confusion Matrix\")\n",
    "plt.show()\n"
   ]
  },
  {
   "cell_type": "markdown",
   "metadata": {},
   "source": [
    "### ROC Curve"
   ]
  },
  {
   "cell_type": "code",
   "execution_count": 91,
   "metadata": {},
   "outputs": [
    {
     "data": {
      "image/png": "[encoded data removed]",
      "text/plain": [
       "<Figure size 432x288 with 1 Axes>"
      ]
     },
     "metadata": {},
     "output_type": "display_data"
    }
   ],
   "source": [
    "fpr_rf, tpr_rf, _ = roc_curve(y_test, y_proba_rf)\n",
    "roc_auc_rf = auc(fpr_rf, tpr_rf)\n",
    "\n",
    "plt.figure(figsize=(6, 4))\n",
    "plt.plot(fpr_rf, tpr_rf, color='blue', lw=2, label='AUC = %0.2f' % roc_auc_rf)\n",
    "plt.plot([0, 1], [0, 1], color='gray', linestyle='--')\n",
    "plt.xlabel('False Positive Rate')\n",
    "plt.ylabel('True Positive Rate')\n",
    "plt.title('ROC Curve - Random Forest')\n",
    "plt.legend(loc=\"lower right\")\n",
    "plt.tight_layout()\n",
    "plt.show()\n"
   ]
  },
  {
   "cell_type": "markdown",
   "metadata": {},
   "source": [
    "### Interpretation\n",
    "Better at capturing complex feature interactions.\n",
    "\n",
    "Check recall: Did it improve for the churn class?\n",
    "\n",
    "AUC Score: Compare to Logistic Regression—higher = better discriminatory power."
   ]
  },
  {
   "cell_type": "markdown",
   "metadata": {},
   "source": [
    "### XGBoost Classifier with Pipeline, Evaluation & Interpretation\n",
    "XGBoost is a powerful gradient boosting algorithm known for its speed and performance on structured data."
   ]
  },
  {
   "cell_type": "markdown",
   "metadata": {},
   "source": [
    "### XGBoost Model & Pipeline"
   ]
  },
  {
   "cell_type": "code",
   "execution_count": 94,
   "metadata": {},
   "outputs": [
    {
     "name": "stdout",
     "output_type": "stream",
     "text": [
      "[21:38:33] WARNING: C:\\Users\\Administrator\\workspace\\xgboost-win64_release_1.2.0\\src\\learner.cc:516: \n",
      "Parameters: { use_label_encoder } might not be used.\n",
      "\n",
      "  This may not be accurate due to some parameters are only used in language bindings but\n",
      "  passed down to XGBoost core.  Or some parameters are not used but slip through this\n",
      "  verification. Please open an issue if you find above cases.\n",
      "\n",
      "\n"
     ]
    }
   ],
   "source": [
    "from xgboost import XGBClassifier\n",
    "\n",
    "# Create pipeline\n",
    "xgb_pipeline = Pipeline(steps=[\n",
    "    ('preprocessor', preprocessor),\n",
    "    ('classifier', XGBClassifier(use_label_encoder=False, eval_metric='logloss', random_state=42))\n",
    "])\n",
    "\n",
    "# Train the model\n",
    "xgb_pipeline.fit(X_train, y_train)\n",
    "\n",
    "# Predict\n",
    "y_pred_xgb = xgb_pipeline.predict(X_test)\n",
    "y_proba_xgb = xgb_pipeline.predict_proba(X_test)[:, 1]\n"
   ]
  },
  {
   "cell_type": "code",
   "execution_count": 95,
   "metadata": {},
   "outputs": [
    {
     "name": "stdout",
     "output_type": "stream",
     "text": [
      "Classification Report (XGBoost):\n",
      "\n",
      "              precision    recall  f1-score   support\n",
      "\n",
      "       False       0.95      0.98      0.97       570\n",
      "        True       0.88      0.71      0.79        97\n",
      "\n",
      "    accuracy                           0.94       667\n",
      "   macro avg       0.92      0.85      0.88       667\n",
      "weighted avg       0.94      0.94      0.94       667\n",
      "\n"
     ]
    }
   ],
   "source": [
    "print(\"Classification Report (XGBoost):\\n\")\n",
    "print(classification_report(y_test, y_pred_xgb))\n"
   ]
  },
  {
   "cell_type": "markdown",
   "metadata": {},
   "source": [
    "### Confusion Matrix + Heatmap\n"
   ]
  },
  {
   "cell_type": "code",
   "execution_count": 97,
   "metadata": {},
   "outputs": [
    {
     "data": {
      "image/png": "[encoded data removed]",
      "text/plain": [
       "<Figure size 432x288 with 2 Axes>"
      ]
     },
     "metadata": {},
     "output_type": "display_data"
    }
   ],
   "source": [
    "cm_xgb = confusion_matrix(y_test, y_pred_xgb)\n",
    "disp_xgb = ConfusionMatrixDisplay(confusion_matrix=cm_xgb, display_labels=[\"Stayed\", \"Churned\"])\n",
    "disp_xgb.plot(cmap=\"YlGnBu\")\n",
    "plt.title(\"XGBoost - Confusion Matrix\")\n",
    "plt.show()\n"
   ]
  },
  {
   "cell_type": "markdown",
   "metadata": {},
   "source": [
    "### ROC Curve"
   ]
  },
  {
   "cell_type": "code",
   "execution_count": 98,
   "metadata": {},
   "outputs": [
    {
     "data": {
      "image/png": "[encoded data removed]",
      "text/plain": [
       "<Figure size 432x288 with 1 Axes>"
      ]
     },
     "metadata": {},
     "output_type": "display_data"
    }
   ],
   "source": [
    "fpr_xgb, tpr_xgb, _ = roc_curve(y_test, y_proba_xgb)\n",
    "roc_auc_xgb = auc(fpr_xgb, tpr_xgb)\n",
    "\n",
    "plt.figure(figsize=(6, 4))\n",
    "plt.plot(fpr_xgb, tpr_xgb, color='green', lw=2, label='AUC = %0.2f' % roc_auc_xgb)\n",
    "plt.plot([0, 1], [0, 1], color='gray', linestyle='--')\n",
    "plt.xlabel('False Positive Rate')\n",
    "plt.ylabel('True Positive Rate')\n",
    "plt.title('ROC Curve - XGBoost')\n",
    "plt.legend(loc=\"lower right\")\n",
    "plt.tight_layout()\n",
    "plt.show()\n"
   ]
  },
  {
   "cell_type": "markdown",
   "metadata": {},
   "source": [
    "### Interpretation\n",
    "XGBoost often yields the best balance of precision and recall.\n",
    "\n",
    "Especially good for handling unbalanced data and missing values.\n",
    "\n",
    "Evaluate if it improves over Random Forest and Logistic Regression in AUC, F1-score, or Recall for churn."
   ]
  },
  {
   "cell_type": "markdown",
   "metadata": {},
   "source": [
    "### Gradient Boosting Classifier (GBM) with Pipeline, Evaluation & Interpretation\n",
    "- Gradient Boosting builds trees sequentially, correcting errors from the previous tree. \n",
    "- It’s often very accurate but slower to train than XGBoost."
   ]
  },
  {
   "cell_type": "markdown",
   "metadata": {},
   "source": [
    "### Gradient Boosting Model & Pipeline"
   ]
  },
  {
   "cell_type": "code",
   "execution_count": 99,
   "metadata": {},
   "outputs": [],
   "source": [
    "from sklearn.ensemble import GradientBoostingClassifier\n",
    "\n",
    "# Create pipeline\n",
    "gb_pipeline = Pipeline(steps=[\n",
    "    ('preprocessor', preprocessor),\n",
    "    ('classifier', GradientBoostingClassifier(random_state=42))\n",
    "])\n",
    "\n",
    "# Train the model\n",
    "gb_pipeline.fit(X_train, y_train)\n",
    "\n",
    "# Predict\n",
    "y_pred_gb = gb_pipeline.predict(X_test)\n",
    "y_proba_gb = gb_pipeline.predict_proba(X_test)[:, 1]\n"
   ]
  },
  {
   "cell_type": "markdown",
   "metadata": {},
   "source": [
    "### Classification Report"
   ]
  },
  {
   "cell_type": "code",
   "execution_count": 100,
   "metadata": {},
   "outputs": [
    {
     "name": "stdout",
     "output_type": "stream",
     "text": [
      "Classification Report (Gradient Boosting):\n",
      "\n",
      "              precision    recall  f1-score   support\n",
      "\n",
      "       False       0.94      0.99      0.96       570\n",
      "        True       0.88      0.60      0.71        97\n",
      "\n",
      "    accuracy                           0.93       667\n",
      "   macro avg       0.91      0.79      0.84       667\n",
      "weighted avg       0.93      0.93      0.92       667\n",
      "\n"
     ]
    }
   ],
   "source": [
    "print(\"Classification Report (Gradient Boosting):\\n\")\n",
    "print(classification_report(y_test, y_pred_gb))\n"
   ]
  },
  {
   "cell_type": "markdown",
   "metadata": {},
   "source": [
    "### Confusion Matrix + Heatmap"
   ]
  },
  {
   "cell_type": "code",
   "execution_count": null,
   "metadata": {},
   "outputs": [],
   "source": []
  }
 ],
 "metadata": {
  "kernelspec": {
   "display_name": "Python (learn-env)",
   "language": "python",
   "name": "learn-env"
  },
  "language_info": {
   "codemirror_mode": {
    "name": "ipython",
    "version": 3
   },
   "file_extension": ".py",
   "mimetype": "text/x-python",
   "name": "python",
   "nbconvert_exporter": "python",
   "pygments_lexer": "ipython3",
   "version": "3.8.5"
  }
 },
 "nbformat": 4,
 "nbformat_minor": 4
}
